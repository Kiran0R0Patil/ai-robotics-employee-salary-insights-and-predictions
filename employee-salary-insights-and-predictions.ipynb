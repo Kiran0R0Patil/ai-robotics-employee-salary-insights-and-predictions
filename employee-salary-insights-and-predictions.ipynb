{
 "cells": [
  {
   "cell_type": "markdown",
   "id": "4224c1fb",
   "metadata": {
    "papermill": {
     "duration": 0.003535,
     "end_time": "2023-10-26T17:51:18.755557",
     "exception": false,
     "start_time": "2023-10-26T17:51:18.752022",
     "status": "completed"
    },
    "tags": []
   },
   "source": [
    "## **1. Loading libraries and data**"
   ]
  },
  {
   "cell_type": "code",
   "execution_count": 1,
   "id": "1680457c",
   "metadata": {
    "_cell_guid": "b1076dfc-b9ad-4769-8c92-a6c4dae69d19",
    "_uuid": "8f2839f25d086af736a60e9eeb907d3b93b6e0e5",
    "execution": {
     "iopub.execute_input": "2023-10-26T17:51:18.762635Z",
     "iopub.status.busy": "2023-10-26T17:51:18.761886Z",
     "iopub.status.idle": "2023-10-26T17:51:18.779623Z",
     "shell.execute_reply": "2023-10-26T17:51:18.778845Z"
    },
    "papermill": {
     "duration": 0.02408,
     "end_time": "2023-10-26T17:51:18.782154",
     "exception": false,
     "start_time": "2023-10-26T17:51:18.758074",
     "status": "completed"
    },
    "tags": []
   },
   "outputs": [
    {
     "name": "stdout",
     "output_type": "stream",
     "text": [
      "/kaggle/input/ai-robotics-employee-salary/train_dataset.csv\n",
      "/kaggle/input/ai-robotics-employee-salary/test_dataset.csv\n",
      "/kaggle/input/ai-robotics-employee-salary/train_salaries.csv\n"
     ]
    }
   ],
   "source": [
    "import os\n",
    "for dirname, _, filenames in os.walk('/kaggle/input'):\n",
    "    for filename in filenames:\n",
    "        print(os.path.join(dirname, filename))"
   ]
  },
  {
   "cell_type": "code",
   "execution_count": 2,
   "id": "025890d4",
   "metadata": {
    "execution": {
     "iopub.execute_input": "2023-10-26T17:51:18.788200Z",
     "iopub.status.busy": "2023-10-26T17:51:18.787874Z",
     "iopub.status.idle": "2023-10-26T17:51:20.746039Z",
     "shell.execute_reply": "2023-10-26T17:51:20.745099Z"
    },
    "papermill": {
     "duration": 1.964168,
     "end_time": "2023-10-26T17:51:20.748739",
     "exception": false,
     "start_time": "2023-10-26T17:51:18.784571",
     "status": "completed"
    },
    "tags": []
   },
   "outputs": [],
   "source": [
    "import pandas as pd\n",
    "import numpy as np \n",
    "import matplotlib.pyplot as plt\n",
    "import seaborn as sns\n",
    "\n",
    "from scipy.stats import norm\n",
    "from sklearn.preprocessing import StandardScaler\n",
    "from scipy import stats"
   ]
  },
  {
   "cell_type": "code",
   "execution_count": null,
   "id": "fcd2bc00",
   "metadata": {
    "papermill": {
     "duration": 0.002101,
     "end_time": "2023-10-26T17:51:20.753327",
     "exception": false,
     "start_time": "2023-10-26T17:51:20.751226",
     "status": "completed"
    },
    "tags": []
   },
   "outputs": [],
   "source": []
  }
 ],
 "metadata": {
  "kernelspec": {
   "display_name": "Python 3",
   "language": "python",
   "name": "python3"
  },
  "language_info": {
   "codemirror_mode": {
    "name": "ipython",
    "version": 3
   },
   "file_extension": ".py",
   "mimetype": "text/x-python",
   "name": "python",
   "nbconvert_exporter": "python",
   "pygments_lexer": "ipython3",
   "version": "3.10.12"
  },
  "papermill": {
   "default_parameters": {},
   "duration": 6.015964,
   "end_time": "2023-10-26T17:51:21.276085",
   "environment_variables": {},
   "exception": null,
   "input_path": "__notebook__.ipynb",
   "output_path": "__notebook__.ipynb",
   "parameters": {},
   "start_time": "2023-10-26T17:51:15.260121",
   "version": "2.4.0"
  }
 },
 "nbformat": 4,
 "nbformat_minor": 5
}
